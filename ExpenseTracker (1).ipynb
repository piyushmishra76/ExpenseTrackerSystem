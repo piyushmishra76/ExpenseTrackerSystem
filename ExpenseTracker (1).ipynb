{
 "cells": [
  {
   "cell_type": "markdown",
   "id": "cd268700-9723-4a8c-b77a-aa80ba0807b8",
   "metadata": {},
   "source": [
    "# EXPENSE TRACKER SYSTEM"
   ]
  },
  {
   "cell_type": "code",
   "execution_count": null,
   "id": "a092a60f-23dc-4b8d-ad99-09f093fd3f31",
   "metadata": {},
   "outputs": [
    {
     "name": "stdout",
     "output_type": "stream",
     "text": [
      "1 for adding expenses\n",
      "2 for display all the expenses which are listed in the file\n",
      "3 for Search expenses directly by entering date\n",
      "4 for exit the sysetm\n"
     ]
    },
    {
     "name": "stdin",
     "output_type": "stream",
     "text": [
      "Enter your choice \n"
     ]
    },
    {
     "name": "stdout",
     "output_type": "stream",
     "text": [
      "Invalid Input! please enter a valid input\n",
      "1 for adding expenses\n",
      "2 for display all the expenses which are listed in the file\n",
      "3 for Search expenses directly by entering date\n",
      "4 for exit the sysetm\n"
     ]
    },
    {
     "name": "stdin",
     "output_type": "stream",
     "text": [
      "Enter your choice 1\n",
      "Enter the Date DD-MM-YYYY 02-03-2024\n",
      "Enter the expense amount 2580\n",
      "Enter the category DRMA\n",
      "Describe where you spent FLIPKART\n"
     ]
    },
    {
     "name": "stdout",
     "output_type": "stream",
     "text": [
      "Expense added succesfully\n",
      "1 for adding expenses\n",
      "2 for display all the expenses which are listed in the file\n",
      "3 for Search expenses directly by entering date\n",
      "4 for exit the sysetm\n"
     ]
    }
   ],
   "source": [
    "import csv\n",
    "import os\n",
    "FILE_NAME=\"data.csv\"\n",
    "#CHECK IF THE FILE EXIST OR NOT AND THEN WRITES THE HEADING \n",
    "if not os.path.exists(FILE_NAME):\n",
    "    with open(FILE_NAME,mode=\"a\", newline=\"\") as ff:\n",
    "        writer=csv.writer(ff)\n",
    "        writer.writerow([\"Date\",\"Amount\",\"Category\",\"Description\"])\n",
    "\n",
    "#FOR ADDING THE EXPENSE\n",
    "def add_expense():\n",
    "    date=input(\"Enter the Date DD-MM-YYYY\")\n",
    "    amount=input(\"Enter the expense amount\")\n",
    "    categor=input(\"Enter the category\")\n",
    "    desc=input(\"Describe where you spent\")\n",
    "    with open(FILE_NAME,mode=\"a\",newline=\"\") as file:\n",
    "        write=csv.writer(file)\n",
    "        write.writerow([date,amount,categor,desc])\n",
    "    print(\"Expense added succesfully\")\n",
    "#FOR SEARCHING THE EXPENSE DATA BY DATE\n",
    "def view_expense_bydate():\n",
    "    date=input(\"enter the date of expense you want to see in DD-MM-YYYY\")\n",
    "    columnTosearch=\"Date\"\n",
    "    with open(FILE_NAME,mode=\"r\") as ffr:\n",
    "        reader=csv.DictReader(ffr)\n",
    "        for row in reader:\n",
    "            if row[columnTosearch]==date:\n",
    "                print(row)\n",
    "#FOR DISPLAY ALL THE LISTED ITEMS WHICH STORED IN THE .csv FILE\n",
    "def view_all():\n",
    "    with open(FILE_NAME,mode=\"r\") as file:\n",
    "        reader=csv.reader(file)\n",
    "        for row in reader:\n",
    "            print(row)\n",
    "while True:\n",
    "    print(\"1 for adding expenses\")\n",
    "    print(\"2 for display all the expenses which are listed in the file\")\n",
    "    print(\"3 for Search expenses directly by entering date\")\n",
    "    print(\"4 for exit the sysetm\")\n",
    "    n=input(\"Enter your choice\")\n",
    "    if n=='1':\n",
    "        add_expense()\n",
    "    elif n=='2':\n",
    "        view_all()\n",
    "    elif n=='3':\n",
    "        view_expense_bydate()\n",
    "    elif n=='4':\n",
    "        break\n",
    "    else:\n",
    "        print(\"Invalid Input! please enter a valid input\")"
   ]
  }
 ],
 "metadata": {
  "kernelspec": {
   "display_name": "Python 3 (ipykernel)",
   "language": "python",
   "name": "python3"
  },
  "language_info": {
   "codemirror_mode": {
    "name": "ipython",
    "version": 3
   },
   "file_extension": ".py",
   "mimetype": "text/x-python",
   "name": "python",
   "nbconvert_exporter": "python",
   "pygments_lexer": "ipython3",
   "version": "3.12.7"
  }
 },
 "nbformat": 4,
 "nbformat_minor": 5
}
